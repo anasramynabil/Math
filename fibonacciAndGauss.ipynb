{
  "nbformat": 4,
  "nbformat_minor": 0,
  "metadata": {
    "colab": {
      "provenance": []
    },
    "kernelspec": {
      "name": "python3",
      "display_name": "Python 3"
    },
    "language_info": {
      "name": "python"
    }
  },
  "cells": [
    {
      "cell_type": "code",
      "execution_count": null,
      "metadata": {
        "id": "L9iCrkYjcazs"
      },
      "outputs": [],
      "source": []
    },
    {
      "cell_type": "markdown",
      "source": [
        "Fibonacci using the general term formula"
      ],
      "metadata": {
        "id": "0OgrrH9Ncbqu"
      }
    },
    {
      "cell_type": "code",
      "source": [
        "import math\n",
        "n=int(input(\"enter the term number\"))\n",
        "gt=int((1/math.sqrt(5))*((((1+math.sqrt(5))/2)**n)-((((1-math.sqrt(5))/2)**n))))\n",
        "print(\"the value of the term you entered is \"+str(gt))\n",
        "answer=int(input(\"do you want to give me another example? write : 1 for yes or 2 for no\"))\n",
        "while answer == 1:\n",
        "     n=int(input(\"enter the term number\"))\n",
        "     gt=int((1/math.sqrt(5))*((((1+math.sqrt(5))/2)**n)-((((1-math.sqrt(5))/2)**n))))\n",
        "     print(\"the value of the term you entered is \"+str(gt))\n",
        "     answer=int(input(\"do you want to give me another example? write : 1 for yes or 2 for no\"))\n"
      ],
      "metadata": {
        "colab": {
          "base_uri": "https://localhost:8080/"
        },
        "id": "_3S-Ycohcln8",
        "outputId": "983826af-a496-4bb7-cabf-1a658963f211"
      },
      "execution_count": 1,
      "outputs": [
        {
          "name": "stdout",
          "output_type": "stream",
          "text": [
            "enter the term number10\n",
            "the value of the term you entered is 55\n",
            "do you want to give me another example? write : 1 for yes or 2 for no1\n",
            "enter the term number15\n",
            "the value of the term you entered is 610\n",
            "do you want to give me another example? write : 1 for yes or 2 for no1\n",
            "enter the term number19\n",
            "the value of the term you entered is 4181\n",
            "do you want to give me another example? write : 1 for yes or 2 for no2\n"
          ]
        }
      ]
    },
    {
      "cell_type": "markdown",
      "source": [
        "Fibonacci using the recursive formula"
      ],
      "metadata": {
        "id": "jXCV5eh3cojs"
      }
    },
    {
      "cell_type": "code",
      "source": [
        "def fibonacci(n):\n",
        "\n",
        "     if n<3:\n",
        "          return 1\n",
        "\n",
        "     return fibonacci(n-1)+fibonacci(n-2)\n",
        "\n",
        "n=int(input(\"enter the n value \"))\n",
        "print(fibonacci(n))\n"
      ],
      "metadata": {
        "colab": {
          "base_uri": "https://localhost:8080/"
        },
        "id": "UdGeialUcrp-",
        "outputId": "7b60d2fa-01b6-4f2d-88df-6ca38711a12c"
      },
      "execution_count": 3,
      "outputs": [
        {
          "output_type": "stream",
          "name": "stdout",
          "text": [
            "enter the n value 15\n",
            "610\n"
          ]
        }
      ]
    },
    {
      "cell_type": "markdown",
      "source": [
        "Arithmetic series by Gauss"
      ],
      "metadata": {
        "id": "bcp-HKMNcwGj"
      }
    },
    {
      "cell_type": "code",
      "source": [
        "def Gauss(n):\n",
        "     if n<2:\n",
        "          return 1\n",
        "\n",
        "     return n+Gauss(n-1)\n",
        "\n",
        "n=int(input(\"enter the n value \"))\n",
        "print(Gauss(n))\n"
      ],
      "metadata": {
        "colab": {
          "base_uri": "https://localhost:8080/"
        },
        "id": "nDDhwpb8eFtm",
        "outputId": "dcd626f7-d040-44c4-fe82-003fbe601b9b"
      },
      "execution_count": 4,
      "outputs": [
        {
          "output_type": "stream",
          "name": "stdout",
          "text": [
            "enter the n value 100\n",
            "5050\n"
          ]
        }
      ]
    }
  ]
}